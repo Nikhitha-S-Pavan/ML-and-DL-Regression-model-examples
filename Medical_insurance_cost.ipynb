{
  "nbformat": 4,
  "nbformat_minor": 0,
  "metadata": {
    "colab": {
      "name": "Medical_insurance_cost.ipynb",
      "private_outputs": true,
      "provenance": [],
      "authorship_tag": "ABX9TyMqJ9L7pC6JK21up8oanOwK",
      "include_colab_link": true
    },
    "kernelspec": {
      "name": "python3",
      "display_name": "Python 3"
    }
  },
  "cells": [
    {
      "cell_type": "markdown",
      "metadata": {
        "id": "view-in-github",
        "colab_type": "text"
      },
      "source": [
        "<a href=\"https://colab.research.google.com/github/Nikhitha-S-Pavan/ML-and-DL-Regression-model-examples/blob/main/Medical_insurance_cost.ipynb\" target=\"_parent\"><img src=\"https://colab.research.google.com/assets/colab-badge.svg\" alt=\"Open In Colab\"/></a>"
      ]
    },
    {
      "cell_type": "code",
      "metadata": {
        "id": "5PcrFkJOUEpZ"
      },
      "source": [
        "from google.colab import drive\r\n",
        "drive.mount('/content/drive')"
      ],
      "execution_count": null,
      "outputs": []
    },
    {
      "cell_type": "code",
      "metadata": {
        "id": "Jyx6EuNNUX-E"
      },
      "source": [
        "import glob\r\n",
        "for dir in glob.glob(\"/content/drive/My Drive/regression_data_files_csv/medical_cost_for_insurance/*\"):\r\n",
        "  print(dir)"
      ],
      "execution_count": null,
      "outputs": []
    },
    {
      "cell_type": "code",
      "metadata": {
        "id": "0liildjEUYAs"
      },
      "source": [
        "import pandas as pd \r\n",
        "input_df = pd.read_csv(\"/content/drive/My Drive/regression_data_files_csv/medical_cost_for_insurance/insurance.csv\")\r\n",
        "input_df.head(5)"
      ],
      "execution_count": null,
      "outputs": []
    },
    {
      "cell_type": "code",
      "metadata": {
        "id": "CRNulA_6U0OX"
      },
      "source": [
        "#Missing values in dataset\r\n",
        "input_df.isnull().sum()"
      ],
      "execution_count": null,
      "outputs": []
    },
    {
      "cell_type": "code",
      "metadata": {
        "id": "C1z9AZxzUYDH"
      },
      "source": [
        "input_df.describe()"
      ],
      "execution_count": null,
      "outputs": []
    },
    {
      "cell_type": "code",
      "metadata": {
        "id": "J2pDv93DUYFX"
      },
      "source": [
        "# drop all those rows which  \r\n",
        "# have any 'nan' value in it. \r\n",
        "input_df.dropna(inplace = True) "
      ],
      "execution_count": null,
      "outputs": []
    },
    {
      "cell_type": "code",
      "metadata": {
        "id": "Fgvm09rbV1S5"
      },
      "source": [
        "input_df.columns"
      ],
      "execution_count": null,
      "outputs": []
    },
    {
      "cell_type": "code",
      "metadata": {
        "id": "gX5GE8A8V_VV"
      },
      "source": [
        "input_df.iloc[:,-1]"
      ],
      "execution_count": null,
      "outputs": []
    },
    {
      "cell_type": "code",
      "metadata": {
        "id": "apTkoCh8UYIC"
      },
      "source": [
        "#load the required libraries\r\n",
        "from sklearn import preprocessing,metrics,linear_model\r\n",
        "from sklearn.model_selection import cross_val_score,cross_val_predict,train_test_split"
      ],
      "execution_count": null,
      "outputs": []
    },
    {
      "cell_type": "code",
      "metadata": {
        "id": "-_YnTkwyUYKs"
      },
      "source": [
        "#Split the dataset into the train and test data\r\n",
        "from sklearn.model_selection import train_test_split\r\n",
        "X_train,X_test,y_train,y_test=train_test_split(input_df.iloc[:,0:-1],input_df.iloc[:,-1],test_size=0.2, random_state=42)\r\n",
        "\r\n",
        "#Reset train index values\r\n",
        "X_train.reset_index(inplace=True)\r\n",
        "y_train=y_train.reset_index()\r\n",
        "\r\n",
        "# Reset train index values\r\n",
        "X_test.reset_index(inplace=True)\r\n",
        "y_test=y_test.reset_index()\r\n",
        "\r\n",
        "print(X_train.shape,X_test.shape,y_train.shape,y_test.shape)\r\n",
        "print(y_train.head())\r\n",
        "print(y_test.head())"
      ],
      "execution_count": null,
      "outputs": []
    },
    {
      "cell_type": "code",
      "metadata": {
        "id": "tWOsPYoqWTJt"
      },
      "source": [
        "y_train"
      ],
      "execution_count": null,
      "outputs": []
    },
    {
      "cell_type": "code",
      "metadata": {
        "id": "_-dA0QGhUYMy"
      },
      "source": [
        "#Create a new dataset for train attributes\r\n",
        "train_attributes=X_train[['age', 'sex', 'bmi', 'children', 'smoker', 'region',]]\r\n",
        "#Create a new dataset for test attributes\r\n",
        "test_attributes=X_test[['age', 'sex', 'bmi', 'children', 'smoker', 'region',]]\r\n",
        "#categorical attributes\r\n",
        "cat_attributes=['sex','smoker','children','region']\r\n",
        "#numerical attributes\r\n",
        "num_attributes=['age','bmi']"
      ],
      "execution_count": null,
      "outputs": []
    },
    {
      "cell_type": "code",
      "metadata": {
        "id": "J5Bmnzc4UYPO"
      },
      "source": [
        "#To get dummy variables to encode the categorical features to numeric\r\n",
        "train_encoded_attributes=pd.get_dummies(train_attributes,columns=cat_attributes)\r\n",
        "print('Shape of transfomed dataframe::',train_encoded_attributes.shape)\r\n",
        "train_encoded_attributes.head(5)"
      ],
      "execution_count": null,
      "outputs": []
    },
    {
      "cell_type": "code",
      "metadata": {
        "id": "FQvHlfsEUYRT"
      },
      "source": [
        "#Training dataset for modelling\r\n",
        "X_train=train_encoded_attributes\r\n",
        "y_train=y_train.charges.values"
      ],
      "execution_count": null,
      "outputs": []
    },
    {
      "cell_type": "code",
      "metadata": {
        "id": "0NhOSAqbUYTa"
      },
      "source": [
        "#training model\r\n",
        "lr_model=linear_model.LinearRegression()\r\n",
        "lr_model"
      ],
      "execution_count": null,
      "outputs": []
    },
    {
      "cell_type": "code",
      "metadata": {
        "id": "ZwGk8zqeUYWJ"
      },
      "source": [
        "lr_model.fit(X_train,y_train)"
      ],
      "execution_count": null,
      "outputs": []
    },
    {
      "cell_type": "code",
      "metadata": {
        "id": "DpBgIZncUYZG"
      },
      "source": [
        "#Accuracy of the model\r\n",
        "lr=lr_model.score(X_train,y_train)\r\n",
        "print('Accuracy of the model :',lr)\r\n",
        "print('Model coefficients :',lr_model.coef_)\r\n",
        "print('Model intercept value :',lr_model.intercept_)"
      ],
      "execution_count": null,
      "outputs": []
    },
    {
      "cell_type": "code",
      "metadata": {
        "id": "R8-xnVJjUYbo"
      },
      "source": [
        "#Cross validation prediction\r\n",
        "predict=cross_val_predict(lr_model,X_train,y_train,cv=3)\r\n",
        "predict"
      ],
      "execution_count": null,
      "outputs": []
    },
    {
      "cell_type": "code",
      "metadata": {
        "id": "zy-ToG8dXf9H"
      },
      "source": [
        "import numpy as np\r\n",
        "#R-squared scores\r\n",
        "r2_scores = cross_val_score(lr_model, X_train, y_train, cv=3)\r\n",
        "print('R-squared scores :',np.average(r2_scores))"
      ],
      "execution_count": null,
      "outputs": []
    },
    {
      "cell_type": "markdown",
      "metadata": {
        "id": "ha620TEzXkA0"
      },
      "source": [
        "# **Test data set evaluation**"
      ]
    },
    {
      "cell_type": "code",
      "metadata": {
        "id": "2Y3kc4hAXjal"
      },
      "source": [
        "#To get dummy variables to encode the categorical features to numeric\r\n",
        "test_encoded_attributes=pd.get_dummies(test_attributes,columns=cat_attributes)\r\n",
        "print('Shape of transformed dataframe :',test_encoded_attributes.shape)\r\n",
        "test_encoded_attributes.head(5)"
      ],
      "execution_count": null,
      "outputs": []
    },
    {
      "cell_type": "code",
      "metadata": {
        "id": "KPuh0LeMXvC0"
      },
      "source": [
        "#Test dataset for prediction\r\n",
        "X_test=test_encoded_attributes\r\n",
        "y_test=y_test.charges.values"
      ],
      "execution_count": null,
      "outputs": []
    },
    {
      "cell_type": "code",
      "metadata": {
        "id": "9C1duJ9cXvFh"
      },
      "source": [
        "#predict the model\r\n",
        "lr_pred=lr_model.predict(X_test)\r\n",
        "lr_pred"
      ],
      "execution_count": null,
      "outputs": []
    },
    {
      "cell_type": "code",
      "metadata": {
        "id": "9bEWb-5YXvIW"
      },
      "source": [
        "import math\r\n",
        "#Root mean square error \r\n",
        "rmse=math.sqrt(metrics.mean_squared_error(y_test,lr_pred))\r\n",
        "#Mean absolute error\r\n",
        "mae=metrics.mean_absolute_error(y_test,lr_pred)\r\n",
        "print('Root mean square error :',rmse)\r\n",
        "print('Mean absolute error :',mae)"
      ],
      "execution_count": null,
      "outputs": []
    }
  ]
}