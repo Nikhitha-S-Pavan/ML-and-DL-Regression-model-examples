{
  "nbformat": 4,
  "nbformat_minor": 0,
  "metadata": {
    "colab": {
      "name": "Bike_rental_count_prediction",
      "private_outputs": true,
      "provenance": [],
      "authorship_tag": "ABX9TyPhlSoD3WAnULwtkGqjlZ9g",
      "include_colab_link": true
    },
    "kernelspec": {
      "name": "python3",
      "display_name": "Python 3"
    },
    "accelerator": "GPU"
  },
  "cells": [
    {
      "cell_type": "markdown",
      "metadata": {
        "id": "view-in-github",
        "colab_type": "text"
      },
      "source": [
        "<a href=\"https://colab.research.google.com/github/Nikhitha-S-Pavan/ML-and-DL-Regression-model-examples/blob/main/Bike_rental_count_prediction.ipynb\" target=\"_parent\"><img src=\"https://colab.research.google.com/assets/colab-badge.svg\" alt=\"Open In Colab\"/></a>"
      ]
    },
    {
      "cell_type": "code",
      "metadata": {
        "id": "jXQ8bCemWJTm"
      },
      "source": [
        "from google.colab import drive\r\n",
        "drive.mount('/content/drive')"
      ],
      "execution_count": null,
      "outputs": []
    },
    {
      "cell_type": "code",
      "metadata": {
        "id": "4o_vb32hWZgm"
      },
      "source": [
        "import glob\r\n",
        "for dir in glob.glob(\"/content/drive/My Drive/regression_data_files_csv/Bike-rental-count/*\"):\r\n",
        "  print(dir)"
      ],
      "execution_count": null,
      "outputs": []
    },
    {
      "cell_type": "code",
      "metadata": {
        "id": "znk2iRc0WZlT"
      },
      "source": [
        "import pandas as pd"
      ],
      "execution_count": null,
      "outputs": []
    },
    {
      "cell_type": "code",
      "metadata": {
        "id": "OhSKySToWZn3"
      },
      "source": [
        "bike_df = pd.read_csv(\"/content/drive/My Drive/regression_data_files_csv/Bike-rental-count/day.csv\")\r\n",
        "bike_df.head(100)"
      ],
      "execution_count": null,
      "outputs": []
    },
    {
      "cell_type": "code",
      "metadata": {
        "id": "nF1qHxD3XPrX"
      },
      "source": [
        "bike_df.shape"
      ],
      "execution_count": null,
      "outputs": []
    },
    {
      "cell_type": "code",
      "metadata": {
        "id": "zYJfIwjqWZqc"
      },
      "source": [
        "bike_df.rename(columns={'instant':'rec_id','dteday':'datetime','yr':'year','mnth':'month','weathersit':'weather_condition',\r\n",
        "                       'hum':'humidity','cnt':'total_count'},inplace=True)"
      ],
      "execution_count": null,
      "outputs": []
    },
    {
      "cell_type": "code",
      "metadata": {
        "id": "8baizkk1WZtG"
      },
      "source": [
        "bike_df.head(10)"
      ],
      "execution_count": null,
      "outputs": []
    },
    {
      "cell_type": "code",
      "metadata": {
        "id": "33Y7ThNeWZvi"
      },
      "source": [
        "#Type casting the datetime and numerical attributes to category\r\n",
        "\r\n",
        "bike_df['datetime']=pd.to_datetime(bike_df.datetime)\r\n",
        "\r\n",
        "bike_df['season']=bike_df.season.astype('category')\r\n",
        "bike_df['year']=bike_df.year.astype('category')\r\n",
        "bike_df['month']=bike_df.month.astype('category')\r\n",
        "bike_df['holiday']=bike_df.holiday.astype('category')\r\n",
        "bike_df['weekday']=bike_df.weekday.astype('category')\r\n",
        "bike_df['workingday']=bike_df.workingday.astype('category')\r\n",
        "bike_df['weather_condition']=bike_df.weather_condition.astype('category')"
      ],
      "execution_count": null,
      "outputs": []
    },
    {
      "cell_type": "code",
      "metadata": {
        "id": "3ZCIVdNsWZyc"
      },
      "source": [
        "bike_df.head(10)"
      ],
      "execution_count": null,
      "outputs": []
    },
    {
      "cell_type": "code",
      "metadata": {
        "id": "MKs-ZMKpWZ13"
      },
      "source": [
        "bike_df.describe()"
      ],
      "execution_count": null,
      "outputs": []
    },
    {
      "cell_type": "code",
      "metadata": {
        "id": "lAxCkmfHY5Tg"
      },
      "source": [
        "#Missing values in dataset\r\n",
        "bike_df.isnull().sum()"
      ],
      "execution_count": null,
      "outputs": []
    },
    {
      "cell_type": "code",
      "metadata": {
        "id": "K1qKY8YrWZ4h"
      },
      "source": [
        "# drop all those rows which  \r\n",
        "# have any 'nan' value in it. \r\n",
        "bike_df.dropna(inplace = True) "
      ],
      "execution_count": null,
      "outputs": []
    },
    {
      "cell_type": "code",
      "metadata": {
        "id": "HF-Ym_QKWZ6i"
      },
      "source": [
        "#load the required libraries\r\n",
        "from sklearn import preprocessing,metrics,linear_model\r\n",
        "from sklearn.model_selection import cross_val_score,cross_val_predict,train_test_split"
      ],
      "execution_count": null,
      "outputs": []
    },
    {
      "cell_type": "code",
      "metadata": {
        "id": "FOuIcgw0aeOa"
      },
      "source": [
        "bike_df.columns"
      ],
      "execution_count": null,
      "outputs": []
    },
    {
      "cell_type": "code",
      "metadata": {
        "id": "Zrn2WZXObNTr"
      },
      "source": [
        "bike_df.iloc[:,0:-3]\r\n",
        "bike_df.iloc[:,-1]"
      ],
      "execution_count": null,
      "outputs": []
    },
    {
      "cell_type": "code",
      "metadata": {
        "id": "FSe_T2cTWZ9Q"
      },
      "source": [
        "#Split the dataset into the train and test data\r\n",
        "from sklearn.model_selection import train_test_split\r\n",
        "X_train,X_test,y_train,y_test=train_test_split(bike_df.iloc[:,0:-3],bike_df.iloc[:,-1],test_size=0.3, random_state=42)\r\n",
        "\r\n",
        "#Reset train index values\r\n",
        "X_train.reset_index(inplace=True)\r\n",
        "y_train=y_train.reset_index()\r\n",
        "\r\n",
        "# Reset train index values\r\n",
        "X_test.reset_index(inplace=True)\r\n",
        "y_test=y_test.reset_index()\r\n",
        "\r\n",
        "print(X_train.shape,X_test.shape,y_train.shape,y_test.shape)\r\n",
        "print(y_train.head())\r\n",
        "print(y_test.head())"
      ],
      "execution_count": null,
      "outputs": []
    },
    {
      "cell_type": "code",
      "metadata": {
        "id": "_K6qkhq-MuOB"
      },
      "source": [
        "#Create a new dataset for train attributes\r\n",
        "train_attributes=X_train[['season','month','year','weekday','holiday','workingday','weather_condition','humidity','temp','windspeed']]\r\n",
        "#Create a new dataset for test attributes\r\n",
        "test_attributes=X_test[['season','month','year','weekday','holiday','workingday','humidity','temp','windspeed','weather_condition']]\r\n",
        "#categorical attributes\r\n",
        "cat_attributes=['season','holiday','workingday','weather_condition','year']\r\n",
        "#numerical attributes\r\n",
        "num_attributes=['temp','windspeed','humidity','month','weekday']"
      ],
      "execution_count": null,
      "outputs": []
    },
    {
      "cell_type": "code",
      "metadata": {
        "id": "_X2huYqFMuRC"
      },
      "source": [
        "#To get dummy variables to encode the categorical features to numeric\r\n",
        "train_encoded_attributes=pd.get_dummies(train_attributes,columns=cat_attributes)\r\n",
        "print('Shape of transfomed dataframe::',train_encoded_attributes.shape)\r\n",
        "train_encoded_attributes.head(5)"
      ],
      "execution_count": null,
      "outputs": []
    },
    {
      "cell_type": "code",
      "metadata": {
        "id": "IaHTHKrlMuTs"
      },
      "source": [
        "#Training dataset for modelling\r\n",
        "X_train=train_encoded_attributes\r\n",
        "y_train=y_train.total_count.values"
      ],
      "execution_count": null,
      "outputs": []
    },
    {
      "cell_type": "code",
      "metadata": {
        "id": "dpDU-46lMuWF"
      },
      "source": [
        "#training model\r\n",
        "lr_model=linear_model.LinearRegression()\r\n",
        "lr_model"
      ],
      "execution_count": null,
      "outputs": []
    },
    {
      "cell_type": "code",
      "metadata": {
        "id": "w9XyDsKKNb3t"
      },
      "source": [
        "lr_model.fit(X_train,y_train)"
      ],
      "execution_count": null,
      "outputs": []
    },
    {
      "cell_type": "code",
      "metadata": {
        "id": "slRskjTnNb9-"
      },
      "source": [
        "#Accuracy of the model\r\n",
        "lr=lr_model.score(X_train,y_train)\r\n",
        "print('Accuracy of the model :',lr)\r\n",
        "print('Model coefficients :',lr_model.coef_)\r\n",
        "print('Model intercept value :',lr_model.intercept_)"
      ],
      "execution_count": null,
      "outputs": []
    },
    {
      "cell_type": "code",
      "metadata": {
        "id": "excP02s5NcAn"
      },
      "source": [
        "#Cross validation prediction\r\n",
        "predict=cross_val_predict(lr_model,X_train,y_train,cv=3)\r\n",
        "predict"
      ],
      "execution_count": null,
      "outputs": []
    },
    {
      "cell_type": "code",
      "metadata": {
        "id": "CKgNAAxKN1FX"
      },
      "source": [
        "import numpy as np\r\n",
        "#R-squared scores\r\n",
        "r2_scores = cross_val_score(lr_model, X_train, y_train, cv=3)\r\n",
        "print('R-squared scores :',np.average(r2_scores))"
      ],
      "execution_count": null,
      "outputs": []
    },
    {
      "cell_type": "markdown",
      "metadata": {
        "id": "2HGaHpBoOLVc"
      },
      "source": [
        "## **Model performance on test dataset**"
      ]
    },
    {
      "cell_type": "code",
      "metadata": {
        "id": "2v7SNI-IOdCx"
      },
      "source": [
        "#To get dummy variables to encode the categorical features to numeric\r\n",
        "test_encoded_attributes=pd.get_dummies(test_attributes,columns=cat_attributes)\r\n",
        "print('Shape of transformed dataframe :',test_encoded_attributes.shape)\r\n",
        "test_encoded_attributes.head(5)"
      ],
      "execution_count": null,
      "outputs": []
    },
    {
      "cell_type": "code",
      "metadata": {
        "id": "Rfu8oOB2OQfe"
      },
      "source": [
        "#Test dataset for prediction\r\n",
        "X_test=test_encoded_attributes\r\n",
        "y_test=y_test.total_count.values"
      ],
      "execution_count": null,
      "outputs": []
    },
    {
      "cell_type": "code",
      "metadata": {
        "id": "Pa1IIwHgOWPi"
      },
      "source": [
        "#predict the model\r\n",
        "lr_pred=lr_model.predict(X_test)\r\n",
        "lr_pred"
      ],
      "execution_count": null,
      "outputs": []
    },
    {
      "cell_type": "code",
      "metadata": {
        "id": "0TtM5dviOWuA"
      },
      "source": [
        "import math\r\n",
        "#Root mean square error \r\n",
        "rmse=math.sqrt(metrics.mean_squared_error(y_test,lr_pred))\r\n",
        "#Mean absolute error\r\n",
        "mae=metrics.mean_absolute_error(y_test,lr_pred)\r\n",
        "print('Root mean square error :',rmse)\r\n",
        "print('Mean absolute error :',mae)"
      ],
      "execution_count": null,
      "outputs": []
    }
  ]
}