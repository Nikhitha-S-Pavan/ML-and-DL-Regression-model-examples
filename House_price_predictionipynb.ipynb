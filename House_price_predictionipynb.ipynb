{
  "nbformat": 4,
  "nbformat_minor": 0,
  "metadata": {
    "colab": {
      "name": "House_price_predictionipynb",
      "private_outputs": true,
      "provenance": [],
      "collapsed_sections": [],
      "authorship_tag": "ABX9TyNgiNNrcRdtESTf9LRumLvn",
      "include_colab_link": true
    },
    "kernelspec": {
      "name": "python3",
      "display_name": "Python 3"
    },
    "accelerator": "GPU"
  },
  "cells": [
    {
      "cell_type": "markdown",
      "metadata": {
        "id": "view-in-github",
        "colab_type": "text"
      },
      "source": [
        "<a href=\"https://colab.research.google.com/github/Nikhitha-S-Pavan/ML-and-DL-Regression-model-examples/blob/main/House_price_predictionipynb.ipynb\" target=\"_parent\"><img src=\"https://colab.research.google.com/assets/colab-badge.svg\" alt=\"Open In Colab\"/></a>"
      ]
    },
    {
      "cell_type": "code",
      "metadata": {
        "id": "wuuxMzzyte5j"
      },
      "source": [
        "from google.colab import drive\r\n",
        "drive.mount('/content/drive')"
      ],
      "execution_count": null,
      "outputs": []
    },
    {
      "cell_type": "code",
      "metadata": {
        "id": "Pud6eaWrED-O"
      },
      "source": [
        "import glob\r\n",
        "for dir in glob.glob(\"/content/drive/My Drive/regression_data_files_csv/house_price_prediction/*\"):\r\n",
        "  print(dir)"
      ],
      "execution_count": null,
      "outputs": []
    },
    {
      "cell_type": "code",
      "metadata": {
        "id": "VZnBN_ZOEZNZ"
      },
      "source": [
        "import pandas as pd \r\n",
        "house_price_df = pd.read_csv(\"/content/drive/My Drive/regression_data_files_csv/house_price_prediction/USA_Housing.csv\")\r\n",
        "\r\n",
        "house_price_df.columns"
      ],
      "execution_count": null,
      "outputs": []
    },
    {
      "cell_type": "code",
      "metadata": {
        "id": "kUkKwN7-EZK9"
      },
      "source": [
        "house_price_df.head(5)"
      ],
      "execution_count": null,
      "outputs": []
    },
    {
      "cell_type": "code",
      "metadata": {
        "id": "_55HsPAnEZJP"
      },
      "source": [
        "#Missing values in dataset\r\n",
        "house_price_df.isnull().sum()"
      ],
      "execution_count": null,
      "outputs": []
    },
    {
      "cell_type": "code",
      "metadata": {
        "id": "t--IR_LzEZGY"
      },
      "source": [
        "# drop all those rows which  \r\n",
        "# have any 'nan' value in it. \r\n",
        "house_price_df.dropna(inplace = True) "
      ],
      "execution_count": null,
      "outputs": []
    },
    {
      "cell_type": "code",
      "metadata": {
        "id": "BNKfZ1cAEZD-"
      },
      "source": [
        "X = house_price_df[['Avg. Area Income', 'Avg. Area House Age', 'Avg. Area Number of Rooms',\r\n",
        "               'Avg. Area Number of Bedrooms', 'Area Population']]\r\n",
        "y = house_price_df['Price']"
      ],
      "execution_count": null,
      "outputs": []
    },
    {
      "cell_type": "code",
      "metadata": {
        "id": "ut-OwiDaEZBt"
      },
      "source": [
        "from sklearn.model_selection import train_test_split\r\n",
        "\r\n",
        "X_train, X_test, y_train, y_test = train_test_split(X, y, test_size=0.3, random_state=42)"
      ],
      "execution_count": null,
      "outputs": []
    },
    {
      "cell_type": "code",
      "metadata": {
        "id": "c0szpF2HEY_W"
      },
      "source": [
        "print(X_train.shape,X_test.shape, y_train.shape, y_test.shape)"
      ],
      "execution_count": null,
      "outputs": []
    },
    {
      "cell_type": "code",
      "metadata": {
        "id": "zyv7A-RoEY6W"
      },
      "source": [
        "from sklearn.preprocessing import StandardScaler\r\n",
        "from sklearn.pipeline import Pipeline\r\n",
        "\r\n",
        "pipeline = Pipeline([('std_scalar', StandardScaler())])\r\n",
        "\r\n",
        "X_train = pipeline.fit_transform(X_train)\r\n",
        "X_test = pipeline.transform(X_test)"
      ],
      "execution_count": null,
      "outputs": []
    },
    {
      "cell_type": "code",
      "metadata": {
        "id": "RotsyniYEY3y"
      },
      "source": [
        "from sklearn.linear_model import LinearRegression\r\n",
        "\r\n",
        "lin_reg = LinearRegression(normalize=True)\r\n",
        "lin_reg.fit(X_train,y_train)"
      ],
      "execution_count": null,
      "outputs": []
    },
    {
      "cell_type": "code",
      "metadata": {
        "id": "5pgJvXW4EYvv"
      },
      "source": [
        "# print the intercept\r\n",
        "print(lin_reg.intercept_)"
      ],
      "execution_count": null,
      "outputs": []
    },
    {
      "cell_type": "code",
      "metadata": {
        "id": "_UswJroEF7cP"
      },
      "source": [
        "coeff_df = pd.DataFrame(lin_reg.coef_, X.columns, columns=['Coefficient'])\r\n",
        "coeff_df"
      ],
      "execution_count": null,
      "outputs": []
    },
    {
      "cell_type": "markdown",
      "metadata": {
        "id": "Ey9nt-A4GItt"
      },
      "source": [
        "## **Predict our model**"
      ]
    },
    {
      "cell_type": "code",
      "metadata": {
        "id": "Opqd0btyF7Z5"
      },
      "source": [
        "pred = lin_reg.predict(X_test)"
      ],
      "execution_count": null,
      "outputs": []
    },
    {
      "cell_type": "code",
      "metadata": {
        "id": "C8f-Jt4RF7XW"
      },
      "source": [
        "import matplotlib.pyplot as plt\r\n",
        "plt.scatter(y_test, pred)"
      ],
      "execution_count": null,
      "outputs": []
    },
    {
      "cell_type": "code",
      "metadata": {
        "id": "fTcOgIEqGroI"
      },
      "source": [
        "from sklearn import metrics\r\n",
        "from sklearn.model_selection import cross_val_score\r\n",
        "import numpy as np\r\n",
        "def print_evaluate(true, predicted):  \r\n",
        "    mae = metrics.mean_absolute_error(true, predicted)\r\n",
        "    mse = metrics.mean_squared_error(true, predicted)\r\n",
        "    rmse = np.sqrt(metrics.mean_squared_error(true, predicted))\r\n",
        "    r2_square = metrics.r2_score(true, predicted)\r\n",
        "    print('MAE:', mae)\r\n",
        "    print('MSE:', mse)\r\n",
        "    print('RMSE:', rmse)\r\n",
        "    print('R2 Square', r2_square)"
      ],
      "execution_count": null,
      "outputs": []
    },
    {
      "cell_type": "code",
      "metadata": {
        "id": "fRrKt8fNF7VG"
      },
      "source": [
        "test_pred = lin_reg.predict(X_test)\r\n",
        "train_pred = lin_reg.predict(X_train)\r\n",
        "\r\n",
        "print('Test set evaluation:\\n_____________________________________')\r\n",
        "print_evaluate(y_test, test_pred)\r\n",
        "print('====================================')\r\n",
        "print('Train set evaluation:\\n_____________________________________')\r\n",
        "print_evaluate(y_train, train_pred)\r\n"
      ],
      "execution_count": null,
      "outputs": []
    },
    {
      "cell_type": "code",
      "metadata": {
        "id": "enR8Qn_THJEK"
      },
      "source": [
        "from sklearn.model_selection import cross_val_score\r\n",
        "\r\n",
        "def cross_val(model):\r\n",
        "    pred = cross_val_score(model, X, y, cv=10)\r\n",
        "    return pred.mean()\r\n",
        "\r\n",
        "\r\n",
        "def evaluate(true, predicted):\r\n",
        "    mae = metrics.mean_absolute_error(true, predicted)\r\n",
        "    mse = metrics.mean_squared_error(true, predicted)\r\n",
        "    rmse = np.sqrt(metrics.mean_squared_error(true, predicted))\r\n",
        "    r2_square = metrics.r2_score(true, predicted)\r\n",
        "    return mae, mse, rmse, r2_square"
      ],
      "execution_count": null,
      "outputs": []
    },
    {
      "cell_type": "code",
      "metadata": {
        "id": "q21wdtiQF7TF"
      },
      "source": [
        "results_df = pd.DataFrame(data=[[\"Linear Regression\", *evaluate(y_test, test_pred) , cross_val(LinearRegression())]], \r\n",
        "                          columns=['Model', 'MAE', 'MSE', 'RMSE', 'R2 Square', \"Cross Validation\"])\r\n",
        "results_df"
      ],
      "execution_count": null,
      "outputs": []
    },
    {
      "cell_type": "code",
      "metadata": {
        "id": "zlWj7uiWF7RE"
      },
      "source": [
        "#Accuracy of the model\r\n",
        "lr=lin_reg.score(X_train,y_train)\r\n",
        "print('Accuracy of the model :',lr)"
      ],
      "execution_count": null,
      "outputs": []
    },
    {
      "cell_type": "code",
      "metadata": {
        "id": "RDfDp9ViF7OJ"
      },
      "source": [
        ""
      ],
      "execution_count": null,
      "outputs": []
    },
    {
      "cell_type": "code",
      "metadata": {
        "id": "Vgnku5vtF7Jb"
      },
      "source": [
        ""
      ],
      "execution_count": null,
      "outputs": []
    },
    {
      "cell_type": "code",
      "metadata": {
        "id": "4xnwv2uCF7GC"
      },
      "source": [
        ""
      ],
      "execution_count": null,
      "outputs": []
    }
  ]
}